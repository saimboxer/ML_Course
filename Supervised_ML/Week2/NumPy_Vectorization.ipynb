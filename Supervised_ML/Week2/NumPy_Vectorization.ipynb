{
 "cells": [
  {
   "cell_type": "markdown",
   "metadata": {},
   "source": [
    "###  Python and NumPy\n",
    "\n",
    "Python is the programming language we will be using in this course. It has a set of numeric data types and arithmetic operations. NumPy is a library that extends the base capabilities of python to add a richer data set including more numeric types, vectors, matrices, and many matrix functions.\n",
    "\n",
    "NumPy and python work together fairly seamlessly."
   ]
  },
  {
   "cell_type": "code",
   "execution_count": 1,
   "metadata": {},
   "outputs": [],
   "source": [
    "import numpy as np    # it is an unofficial standard to use np for numpy\n",
    "import time"
   ]
  },
  {
   "cell_type": "markdown",
   "metadata": {},
   "source": [
    "### Vectors\n",
    "\n",
    "NumPy Arrays\n",
    "\n",
    "A NumPy array is a grid of values, all of the same type, indexed by a tuple of non-negative integers. Vectors are one-dimensional NumPy arrays."
   ]
  },
  {
   "cell_type": "markdown",
   "metadata": {},
   "source": [
    "Vector Creation"
   ]
  },
  {
   "cell_type": "code",
   "execution_count": 6,
   "metadata": {},
   "outputs": [
    {
     "name": "stdout",
     "output_type": "stream",
     "text": [
      "Vector: [1 2 3]\n",
      "Zeros: [0. 0. 0.]\n",
      "Ones: [1. 1. 1.]\n",
      "Random: [0.94621834 0.88550478 0.52980093]\n"
     ]
    }
   ],
   "source": [
    "# Create a vector (1D array)\n",
    "vector = np.array([1, 2, 3])\n",
    "b = np.zeros(3)\n",
    "c = np.ones(3)\n",
    "d = np.random.rand(3)\n",
    "print(\"Vector:\", vector)\n",
    "print(\"Zeros:\", b)\n",
    "print(\"Ones:\", c)\n",
    "print(\"Random:\", d)"
   ]
  },
  {
   "cell_type": "markdown",
   "metadata": {},
   "source": [
    "### Operations on Vectors (Indexing and Slicing)\n",
    "\n",
    "Indexing: Accessing elements in a vector using their position.\n",
    "\n",
    "Slicing: Extracting a portion of the vector."
   ]
  },
  {
   "cell_type": "code",
   "execution_count": 7,
   "metadata": {},
   "outputs": [
    {
     "name": "stdout",
     "output_type": "stream",
     "text": [
      "First element: 1\n",
      "Elements from index 1 to end: [2 3]\n"
     ]
    }
   ],
   "source": [
    "# Access elements\n",
    "print(\"First element:\", vector[0])\n",
    "\n",
    "# Slice the vector\n",
    "print(\"Elements from index 1 to end:\", vector[1:])"
   ]
  },
  {
   "cell_type": "markdown",
   "metadata": {},
   "source": [
    "### Vector-Vector Element-wise Operations\n",
    "\n",
    "Operations performed element-wise on vectors of the same size."
   ]
  },
  {
   "cell_type": "code",
   "execution_count": 9,
   "metadata": {},
   "outputs": [
    {
     "name": "stdout",
     "output_type": "stream",
     "text": [
      "vector: [1 2 3]\n",
      "vector2: [4 5 6]\n",
      "Element-wise Addition: [5 7 9]\n",
      "Element-wise Multiplication: [ 4 10 18]\n"
     ]
    }
   ],
   "source": [
    "# Create another vector\n",
    "vector2 = np.array([4, 5, 6])\n",
    "\n",
    "print(\"vector:\", vector)\n",
    "print(\"vector2:\", vector2)\n",
    "\n",
    "# Element-wise addition\n",
    "print(\"Element-wise Addition:\", vector + vector2)\n",
    "\n",
    "# Element-wise multiplication\n",
    "print(\"Element-wise Multiplication:\", vector * vector2)"
   ]
  },
  {
   "cell_type": "markdown",
   "metadata": {},
   "source": [
    "### Scalar-Vector Operations\n",
    "Operations between a vector and a scalar (a single number) are broadcast across all elements of the vector."
   ]
  },
  {
   "cell_type": "code",
   "execution_count": 10,
   "metadata": {},
   "outputs": [
    {
     "name": "stdout",
     "output_type": "stream",
     "text": [
      "Scalar: 2\n",
      "vector: [1 2 3]\n",
      "Scalar Multiplication: [2 4 6]\n"
     ]
    }
   ],
   "source": [
    "# Scalar multiplication\n",
    "scalar = 2\n",
    "print(\"Scalar:\", scalar)\n",
    "print(\"vector:\", vector)\n",
    "print(\"Scalar Multiplication:\", scalar * vector)"
   ]
  },
  {
   "cell_type": "markdown",
   "metadata": {},
   "source": [
    "### Vector Dot Product\n",
    "The dot product of two vectors is a single number obtained by multiplying corresponding elements and summing the results."
   ]
  },
  {
   "cell_type": "code",
   "execution_count": 11,
   "metadata": {},
   "outputs": [
    {
     "name": "stdout",
     "output_type": "stream",
     "text": [
      "vector: [1 2 3]\n",
      "vector2: [4 5 6]\n",
      "Dot Product: 32\n"
     ]
    }
   ],
   "source": [
    "# Dot product\n",
    "dot_product = np.dot(vector, vector2)\n",
    "print(\"vector:\", vector)\n",
    "print(\"vector2:\", vector2)\n",
    "print(\"Dot Product:\", dot_product)"
   ]
  },
  {
   "cell_type": "markdown",
   "metadata": {},
   "source": [
    "### Need for Speed: Vector vs. For Loop\n",
    "NumPy operations are highly optimized and typically faster than using a Python for-loop for element-wise operations."
   ]
  },
  {
   "cell_type": "code",
   "execution_count": 12,
   "metadata": {},
   "outputs": [
    {
     "name": "stdout",
     "output_type": "stream",
     "text": [
      "Result using loop: [5. 7. 9.]\n",
      "Result using NumPy: [5 7 9]\n"
     ]
    }
   ],
   "source": [
    "# Using a loop to calculate element-wise addition\n",
    "result = np.zeros(len(vector))\n",
    "for i in range(len(vector)):\n",
    "    result[i] = vector[i] + vector2[i]\n",
    "\n",
    "print(\"Result using loop:\", result)\n",
    "\n",
    "# Using NumPy for the same operation\n",
    "print(\"Result using NumPy:\", vector + vector2)"
   ]
  },
  {
   "cell_type": "code",
   "execution_count": 16,
   "metadata": {},
   "outputs": [],
   "source": [
    "def my_dot(a, b): \n",
    "    \"\"\"\n",
    "   Compute the dot product of two vectors\n",
    " \n",
    "    Args:\n",
    "      a (ndarray (n,)):  input vector \n",
    "      b (ndarray (n,)):  input vector with same dimension as a\n",
    "    \n",
    "    Returns:\n",
    "      x (scalar): \n",
    "    \"\"\"\n",
    "    x=0.0\n",
    "    for i in range(a.shape[0]):\n",
    "        x += a[i] * b[i]\n",
    "    return x"
   ]
  },
  {
   "cell_type": "code",
   "execution_count": 17,
   "metadata": {},
   "outputs": [
    {
     "data": {
      "text/plain": [
       "32.0"
      ]
     },
     "execution_count": 17,
     "metadata": {},
     "output_type": "execute_result"
    }
   ],
   "source": [
    "my_dot(vector, vector2)"
   ]
  },
  {
   "cell_type": "code",
   "execution_count": 18,
   "metadata": {},
   "outputs": [
    {
     "name": "stdout",
     "output_type": "stream",
     "text": [
      "np.dot(a, b) =  2501072.5817\n",
      "Vectorized version duration: 16.2127 ms \n",
      "my_dot(a, b) =  2501072.5817\n",
      "loop version duration: 7649.6985 ms \n"
     ]
    }
   ],
   "source": [
    "np.random.seed(1)\n",
    "m = np.random.rand(10000000)  # very large arrays\n",
    "n = np.random.rand(10000000)\n",
    "\n",
    "tic = time.time()  # capture start time\n",
    "c = np.dot(m, n)\n",
    "toc = time.time()  # capture end time\n",
    "\n",
    "print(f\"np.dot(a, b) =  {c:.4f}\")\n",
    "print(f\"Vectorized version duration: {1000*(toc-tic):.4f} ms \")\n",
    "\n",
    "tic = time.time()  # capture start time\n",
    "c = my_dot(m, n)\n",
    "toc = time.time()  # capture end time\n",
    "\n",
    "print(f\"my_dot(a, b) =  {c:.4f}\")\n",
    "print(f\"loop version duration: {1000*(toc-tic):.4f} ms \")\n",
    "\n",
    "del(m);del(n)  #remove these big arrays from memory"
   ]
  },
  {
   "cell_type": "markdown",
   "metadata": {},
   "source": [
    "### Matrices\n",
    "NumPy Arrays\n",
    "Matrices are 2D arrays in NumPy, which means they have rows and columns."
   ]
  },
  {
   "cell_type": "markdown",
   "metadata": {},
   "source": [
    "### Matrix Creation"
   ]
  },
  {
   "cell_type": "code",
   "execution_count": 19,
   "metadata": {},
   "outputs": [
    {
     "name": "stdout",
     "output_type": "stream",
     "text": [
      "Matrix:\n",
      " [[1 2 3]\n",
      " [4 5 6]]\n"
     ]
    }
   ],
   "source": [
    "# Create a 2x3 matrix\n",
    "matrix = np.array([[1, 2, 3], [4, 5, 6]])\n",
    "print(\"Matrix:\\n\", matrix)"
   ]
  },
  {
   "cell_type": "markdown",
   "metadata": {},
   "source": [
    "### Operations on Matrices\n",
    "Indexing and Slicing: Similar to vectors, but with two indices.\n",
    "\n",
    "In a 2D array, inner each array represents a single record like \n",
    "Matrix:[[1 2 3][4 5 6]]\n",
    "suupose Matrix is a customer table where you can find multiple customers having name, contact, address, so\n",
    "[1 2 3] this belongs to Customer1, [4 5 6] belongs to Customer 2"
   ]
  },
  {
   "cell_type": "code",
   "execution_count": 21,
   "metadata": {},
   "outputs": [
    {
     "name": "stdout",
     "output_type": "stream",
     "text": [
      "Element at row 0, column 1: 2\n",
      "First row: [1 2 3]\n"
     ]
    }
   ],
   "source": [
    "# Access an element\n",
    "print(\"Element at row 0, column 1:\", matrix[0, 1])\n",
    "\n",
    "# Slice a submatrix\n",
    "print(\"First row:\", matrix[0, :])"
   ]
  },
  {
   "cell_type": "markdown",
   "metadata": {},
   "source": [
    "Element-wise Operations: Performed element-wise between matrices of the same shape."
   ]
  },
  {
   "cell_type": "code",
   "execution_count": 23,
   "metadata": {},
   "outputs": [
    {
     "name": "stdout",
     "output_type": "stream",
     "text": [
      "Matrix:\n",
      " [[1 2 3]\n",
      " [4 5 6]]\n",
      "Matrix2:\n",
      " [[ 7  8  9]\n",
      " [10 11 12]]\n",
      "Element-wise Addition:\n",
      " [[ 8 10 12]\n",
      " [14 16 18]]\n"
     ]
    }
   ],
   "source": [
    "# Create another matrix\n",
    "matrix2 = np.array([[7, 8, 9], [10, 11, 12]])\n",
    "\n",
    "print(\"Matrix:\\n\", matrix)\n",
    "print(\"Matrix2:\\n\", matrix2)\n",
    "\n",
    "# Element-wise addition\n",
    "print(\"Element-wise Addition:\\n\", matrix + matrix2)"
   ]
  },
  {
   "cell_type": "markdown",
   "metadata": {},
   "source": [
    "Scalar-Matrix Operations: Scalars are broadcasted across the matrix."
   ]
  },
  {
   "cell_type": "code",
   "execution_count": 24,
   "metadata": {},
   "outputs": [
    {
     "name": "stdout",
     "output_type": "stream",
     "text": [
      "Matrix:\n",
      " [[1 2 3]\n",
      " [4 5 6]]\n",
      "Scalar Multiplication:\n",
      " [[ 2  4  6]\n",
      " [ 8 10 12]]\n"
     ]
    }
   ],
   "source": [
    "# Scalar multiplication\n",
    "print(\"Matrix:\\n\", matrix)\n",
    "print(\"Scalar Multiplication:\\n\", 2 * matrix)"
   ]
  },
  {
   "cell_type": "markdown",
   "metadata": {},
   "source": [
    "Matrix-Matrix Multiplication: Dot product for matrices is performed using np.dot() or @."
   ]
  },
  {
   "cell_type": "code",
   "execution_count": 26,
   "metadata": {},
   "outputs": [
    {
     "name": "stdout",
     "output_type": "stream",
     "text": [
      "Matrix:\n",
      " [[1 2 3]\n",
      " [4 5 6]]\n",
      "Matrix3:\n",
      " [[1 2]\n",
      " [3 4]\n",
      " [5 6]]\n",
      "Matrix Multiplication:\n",
      " [[22 28]\n",
      " [49 64]]\n"
     ]
    }
   ],
   "source": [
    "# Matrix multiplication\n",
    "matrix3 = np.array([[1, 2], [3, 4], [5, 6]])\n",
    "product = np.dot(matrix, matrix3)  # or matrix @ matrix3\n",
    "print(\"Matrix:\\n\", matrix)\n",
    "print(\"Matrix3:\\n\", matrix3)\n",
    "print(\"Matrix Multiplication:\\n\", product)"
   ]
  },
  {
   "cell_type": "code",
   "execution_count": null,
   "metadata": {},
   "outputs": [],
   "source": []
  }
 ],
 "metadata": {
  "kernelspec": {
   "display_name": "ML_learning_journey_kernel",
   "language": "python",
   "name": "ml_learning_journey_kernel"
  },
  "language_info": {
   "codemirror_mode": {
    "name": "ipython",
    "version": 3
   },
   "file_extension": ".py",
   "mimetype": "text/x-python",
   "name": "python",
   "nbconvert_exporter": "python",
   "pygments_lexer": "ipython3",
   "version": "3.11.4"
  }
 },
 "nbformat": 4,
 "nbformat_minor": 2
}
