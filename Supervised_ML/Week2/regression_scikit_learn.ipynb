{
 "cells": [
  {
   "cell_type": "markdown",
   "metadata": {},
   "source": [
    "### Goal\n",
    "before we were understanding regression tasks, learn cost, geadients, gradient descent, feature scaling, normalization of features, linear and non linear data.. \n",
    "\n",
    "Now, we will learn these things using scikit-learn library to implement linear regression using Gradient Descent"
   ]
  },
  {
   "cell_type": "markdown",
   "metadata": {},
   "source": [
    "### Loading Libraries and tools"
   ]
  },
  {
   "cell_type": "code",
   "execution_count": 1,
   "metadata": {},
   "outputs": [],
   "source": [
    "# Import necessary libraries\n",
    "import numpy as np  # For numerical computations\n",
    "import matplotlib.pyplot as plt  # For plotting\n",
    "from sklearn.linear_model import SGDRegressor  # Stochastic Gradient Descent Regressor from scikit-learn\n",
    "from sklearn.preprocessing import StandardScaler  # For feature scaling (standardization)\n",
    "from lab_utils_multi import load_house_data  # Custom function to load house data\n",
    "from lab_utils_common import dlc  # Custom function for deep learning colors/styles\n",
    "np.set_printoptions(precision=2)  # Set NumPy print options for better readability\n",
    "plt.style.use('./deeplearning.mplstyle')  # Use a custom style for plotting"
   ]
  },
  {
   "cell_type": "markdown",
   "metadata": {},
   "source": [
    "### Load Data"
   ]
  },
  {
   "cell_type": "code",
   "execution_count": 2,
   "metadata": {},
   "outputs": [
    {
     "name": "stdout",
     "output_type": "stream",
     "text": [
      "X_train: [[1.24e+03 3.00e+00 1.00e+00 6.40e+01]\n",
      " [1.95e+03 3.00e+00 2.00e+00 1.70e+01]\n",
      " [1.72e+03 3.00e+00 2.00e+00 4.20e+01]\n",
      " [1.96e+03 3.00e+00 2.00e+00 1.50e+01]\n",
      " [1.31e+03 2.00e+00 1.00e+00 1.40e+01]\n",
      " [8.64e+02 2.00e+00 1.00e+00 6.60e+01]\n",
      " [1.84e+03 3.00e+00 1.00e+00 1.70e+01]\n",
      " [1.03e+03 3.00e+00 1.00e+00 4.30e+01]\n",
      " [3.19e+03 4.00e+00 2.00e+00 8.70e+01]\n",
      " [7.88e+02 2.00e+00 1.00e+00 8.00e+01]\n",
      " [1.20e+03 2.00e+00 2.00e+00 1.70e+01]\n",
      " [1.56e+03 2.00e+00 1.00e+00 1.80e+01]\n",
      " [1.43e+03 3.00e+00 1.00e+00 2.00e+01]\n",
      " [1.22e+03 2.00e+00 1.00e+00 1.50e+01]\n",
      " [1.09e+03 2.00e+00 1.00e+00 6.40e+01]\n",
      " [8.48e+02 1.00e+00 1.00e+00 1.70e+01]\n",
      " [1.68e+03 3.00e+00 2.00e+00 2.30e+01]\n",
      " [1.77e+03 3.00e+00 2.00e+00 1.80e+01]\n",
      " [1.04e+03 3.00e+00 1.00e+00 4.40e+01]\n",
      " [1.65e+03 2.00e+00 1.00e+00 2.10e+01]\n",
      " [1.09e+03 2.00e+00 1.00e+00 3.50e+01]\n",
      " [1.32e+03 3.00e+00 1.00e+00 1.40e+01]\n",
      " [1.59e+03 0.00e+00 1.00e+00 2.00e+01]\n",
      " [9.72e+02 2.00e+00 1.00e+00 7.30e+01]\n",
      " [1.10e+03 3.00e+00 1.00e+00 3.70e+01]\n",
      " [1.00e+03 2.00e+00 1.00e+00 5.10e+01]\n",
      " [9.04e+02 3.00e+00 1.00e+00 5.50e+01]\n",
      " [1.69e+03 3.00e+00 1.00e+00 1.30e+01]\n",
      " [1.07e+03 2.00e+00 1.00e+00 1.00e+02]\n",
      " [1.42e+03 3.00e+00 2.00e+00 1.90e+01]\n",
      " [1.16e+03 3.00e+00 1.00e+00 5.20e+01]\n",
      " [1.94e+03 3.00e+00 2.00e+00 1.20e+01]\n",
      " [1.22e+03 2.00e+00 2.00e+00 7.40e+01]\n",
      " [2.48e+03 4.00e+00 2.00e+00 1.60e+01]\n",
      " [1.20e+03 2.00e+00 1.00e+00 1.80e+01]\n",
      " [1.84e+03 3.00e+00 2.00e+00 2.00e+01]\n",
      " [1.85e+03 3.00e+00 2.00e+00 5.70e+01]\n",
      " [1.66e+03 3.00e+00 2.00e+00 1.90e+01]\n",
      " [1.10e+03 2.00e+00 2.00e+00 9.70e+01]\n",
      " [1.78e+03 3.00e+00 2.00e+00 2.80e+01]\n",
      " [2.03e+03 4.00e+00 2.00e+00 4.50e+01]\n",
      " [1.78e+03 4.00e+00 2.00e+00 1.07e+02]\n",
      " [1.07e+03 2.00e+00 1.00e+00 1.00e+02]\n",
      " [1.55e+03 3.00e+00 1.00e+00 1.60e+01]\n",
      " [1.95e+03 3.00e+00 2.00e+00 1.60e+01]\n",
      " [1.22e+03 2.00e+00 2.00e+00 1.20e+01]\n",
      " [1.62e+03 3.00e+00 1.00e+00 1.60e+01]\n",
      " [8.16e+02 2.00e+00 1.00e+00 5.80e+01]\n",
      " [1.35e+03 3.00e+00 1.00e+00 2.10e+01]\n",
      " [1.57e+03 3.00e+00 1.00e+00 1.40e+01]\n",
      " [1.49e+03 3.00e+00 1.00e+00 5.70e+01]\n",
      " [1.51e+03 2.00e+00 1.00e+00 1.60e+01]\n",
      " [1.10e+03 3.00e+00 1.00e+00 2.70e+01]\n",
      " [1.76e+03 3.00e+00 2.00e+00 2.40e+01]\n",
      " [1.21e+03 2.00e+00 1.00e+00 1.40e+01]\n",
      " [1.47e+03 3.00e+00 2.00e+00 2.40e+01]\n",
      " [1.77e+03 3.00e+00 2.00e+00 8.40e+01]\n",
      " [1.65e+03 3.00e+00 1.00e+00 1.90e+01]\n",
      " [1.03e+03 3.00e+00 1.00e+00 6.00e+01]\n",
      " [1.12e+03 2.00e+00 2.00e+00 1.60e+01]\n",
      " [1.15e+03 3.00e+00 1.00e+00 6.20e+01]\n",
      " [8.16e+02 2.00e+00 1.00e+00 3.90e+01]\n",
      " [1.04e+03 3.00e+00 1.00e+00 2.50e+01]\n",
      " [1.39e+03 3.00e+00 1.00e+00 6.40e+01]\n",
      " [1.60e+03 3.00e+00 2.00e+00 2.90e+01]\n",
      " [1.22e+03 3.00e+00 1.00e+00 6.30e+01]\n",
      " [1.07e+03 2.00e+00 1.00e+00 1.00e+02]\n",
      " [2.60e+03 4.00e+00 2.00e+00 2.20e+01]\n",
      " [1.43e+03 3.00e+00 1.00e+00 5.90e+01]\n",
      " [2.09e+03 3.00e+00 2.00e+00 2.60e+01]\n",
      " [1.79e+03 4.00e+00 2.00e+00 4.90e+01]\n",
      " [1.48e+03 3.00e+00 2.00e+00 1.60e+01]\n",
      " [1.04e+03 3.00e+00 1.00e+00 2.50e+01]\n",
      " [1.43e+03 3.00e+00 1.00e+00 2.20e+01]\n",
      " [1.16e+03 3.00e+00 1.00e+00 5.30e+01]\n",
      " [1.55e+03 3.00e+00 2.00e+00 1.20e+01]\n",
      " [1.98e+03 3.00e+00 2.00e+00 2.20e+01]\n",
      " [1.06e+03 3.00e+00 1.00e+00 5.30e+01]\n",
      " [1.18e+03 2.00e+00 1.00e+00 9.90e+01]\n",
      " [1.36e+03 2.00e+00 1.00e+00 1.70e+01]\n",
      " [9.60e+02 3.00e+00 1.00e+00 5.10e+01]\n",
      " [1.46e+03 3.00e+00 2.00e+00 1.60e+01]\n",
      " [1.45e+03 3.00e+00 2.00e+00 2.50e+01]\n",
      " [1.21e+03 2.00e+00 1.00e+00 1.50e+01]\n",
      " [1.55e+03 3.00e+00 2.00e+00 1.60e+01]\n",
      " [8.82e+02 3.00e+00 1.00e+00 4.90e+01]\n",
      " [2.03e+03 4.00e+00 2.00e+00 4.50e+01]\n",
      " [1.04e+03 3.00e+00 1.00e+00 6.20e+01]\n",
      " [1.62e+03 3.00e+00 1.00e+00 1.60e+01]\n",
      " [8.03e+02 2.00e+00 1.00e+00 8.00e+01]\n",
      " [1.43e+03 3.00e+00 2.00e+00 2.10e+01]\n",
      " [1.66e+03 3.00e+00 1.00e+00 6.10e+01]\n",
      " [1.54e+03 3.00e+00 1.00e+00 1.60e+01]\n",
      " [9.48e+02 3.00e+00 1.00e+00 5.30e+01]\n",
      " [1.22e+03 2.00e+00 2.00e+00 1.20e+01]\n",
      " [1.43e+03 2.00e+00 1.00e+00 4.30e+01]\n",
      " [1.66e+03 3.00e+00 2.00e+00 1.90e+01]\n",
      " [1.21e+03 3.00e+00 1.00e+00 2.00e+01]\n",
      " [1.05e+03 2.00e+00 1.00e+00 6.50e+01]]\n",
      "y_train: [300.   509.8  394.   540.   415.   230.   560.   294.   718.2  200.\n",
      " 302.   468.   374.2  388.   282.   311.8  401.   449.8  301.   502.\n",
      " 340.   400.28 572.   264.   304.   298.   219.8  490.7  216.96 368.2\n",
      " 280.   526.87 237.   562.43 369.8  460.   374.   390.   158.   426.\n",
      " 390.   277.77 216.96 425.8  504.   329.   464.   220.   358.   478.\n",
      " 334.   426.98 290.   463.   390.8  354.   350.   460.   237.   288.3\n",
      " 282.   249.   304.   332.   351.8  310.   216.96 666.34 330.   480.\n",
      " 330.3  348.   304.   384.   316.   430.4  450.   284.   275.   414.\n",
      " 258.   378.   350.   412.   373.   225.   390.   267.4  464.   174.\n",
      " 340.   430.   440.   216.   329.   388.   390.   356.   257.8 ]\n"
     ]
    }
   ],
   "source": [
    "# Load the house data\n",
    "X_train, y_train = load_house_data()\n",
    "# Print X_train and y_train\n",
    "print('X_train:', X_train)\n",
    "print('y_train:', y_train)\n",
    "# Define the feature names\n",
    "X_features = ['size(sqft)','bedrooms','floors','age']"
   ]
  },
  {
   "cell_type": "code",
   "execution_count": 7,
   "metadata": {},
   "outputs": [
    {
     "name": "stdout",
     "output_type": "stream",
     "text": [
      "Number of training examples: 99\n",
      "Number of features: 4\n"
     ]
    }
   ],
   "source": [
    "# Print number of training examples and number of features\n",
    "m, n = X_train.shape\n",
    "print('Number of training examples:', m)\n",
    "print('Number of features:', n)"
   ]
  },
  {
   "cell_type": "markdown",
   "metadata": {},
   "source": [
    "### Scale/normalize the training data"
   ]
  },
  {
   "cell_type": "code",
   "execution_count": 3,
   "metadata": {},
   "outputs": [
    {
     "name": "stdout",
     "output_type": "stream",
     "text": [
      "Normalized X_train: [[-4.24e-01  4.34e-01 -7.89e-01  9.94e-01]\n",
      " [ 1.28e+00  4.34e-01  1.27e+00 -8.30e-01]\n",
      " [ 7.45e-01  4.34e-01  1.27e+00  1.40e-01]\n",
      " [ 1.31e+00  4.34e-01  1.27e+00 -9.07e-01]\n",
      " [-2.54e-01 -1.10e+00 -7.89e-01 -9.46e-01]\n",
      " [-1.35e+00 -1.10e+00 -7.89e-01  1.07e+00]\n",
      " [ 1.01e+00  4.34e-01 -7.89e-01 -8.30e-01]\n",
      " [-9.53e-01  4.34e-01 -7.89e-01  1.79e-01]\n",
      " [ 4.31e+00  1.97e+00  1.27e+00  1.89e+00]\n",
      " [-1.53e+00 -1.10e+00 -7.89e-01  1.61e+00]\n",
      " [-5.31e-01 -1.10e+00  1.27e+00 -8.30e-01]\n",
      " [ 3.37e-01 -1.10e+00 -7.89e-01 -7.91e-01]\n",
      " [ 2.82e-02  4.34e-01 -7.89e-01 -7.13e-01]\n",
      " [-4.82e-01 -1.10e+00 -7.89e-01 -9.07e-01]\n",
      " [-7.93e-01 -1.10e+00 -7.89e-01  9.94e-01]\n",
      " [-1.39e+00 -2.63e+00 -7.89e-01 -8.30e-01]\n",
      " [ 6.40e-01  4.34e-01  1.27e+00 -5.97e-01]\n",
      " [ 8.49e-01  4.34e-01  1.27e+00 -7.91e-01]\n",
      " [-9.19e-01  4.34e-01 -7.89e-01  2.18e-01]\n",
      " [ 5.68e-01 -1.10e+00 -7.89e-01 -6.74e-01]\n",
      " [-8.03e-01 -1.10e+00 -7.89e-01 -1.31e-01]\n",
      " [-2.49e-01  4.34e-01 -7.89e-01 -9.46e-01]\n",
      " [ 4.24e-01 -4.17e+00 -7.89e-01 -7.13e-01]\n",
      " [-1.08e+00 -1.10e+00 -7.89e-01  1.34e+00]\n",
      " [-7.81e-01  4.34e-01 -7.89e-01 -5.37e-02]\n",
      " [-1.01e+00 -1.10e+00 -7.89e-01  4.89e-01]\n",
      " [-1.25e+00  4.34e-01 -7.89e-01  6.45e-01]\n",
      " [ 6.70e-01  4.34e-01 -7.89e-01 -9.85e-01]\n",
      " [-8.39e-01 -1.10e+00 -7.89e-01  2.39e+00]\n",
      " [ 1.52e-03  4.34e-01  1.27e+00 -7.52e-01]\n",
      " [-6.18e-01  4.34e-01 -7.89e-01  5.28e-01]\n",
      " [ 1.26e+00  4.34e-01  1.27e+00 -1.02e+00]\n",
      " [-4.92e-01 -1.10e+00  1.27e+00  1.38e+00]\n",
      " [ 2.58e+00  1.97e+00  1.27e+00 -8.68e-01]\n",
      " [-5.31e-01 -1.10e+00 -7.89e-01 -7.91e-01]\n",
      " [ 1.02e+00  4.34e-01  1.27e+00 -7.13e-01]\n",
      " [ 1.05e+00  4.34e-01  1.27e+00  7.22e-01]\n",
      " [ 5.87e-01  4.34e-01  1.27e+00 -7.52e-01]\n",
      " [-7.83e-01 -1.10e+00  1.27e+00  2.27e+00]\n",
      " [ 8.66e-01  4.34e-01  1.27e+00 -4.03e-01]\n",
      " [ 1.49e+00  1.97e+00  1.27e+00  2.57e-01]\n",
      " [ 8.88e-01  1.97e+00  1.27e+00  2.66e+00]\n",
      " [-8.39e-01 -1.10e+00 -7.89e-01  2.39e+00]\n",
      " [ 3.25e-01  4.34e-01 -7.89e-01 -8.68e-01]\n",
      " [ 1.30e+00  4.34e-01  1.27e+00 -8.68e-01]\n",
      " [-4.72e-01 -1.10e+00  1.27e+00 -1.02e+00]\n",
      " [ 4.80e-01  4.34e-01 -7.89e-01 -8.68e-01]\n",
      " [-1.46e+00 -1.10e+00 -7.89e-01  7.61e-01]\n",
      " [-1.69e-01  4.34e-01 -7.89e-01 -6.74e-01]\n",
      " [ 3.71e-01  4.34e-01 -7.89e-01 -9.46e-01]\n",
      " [ 1.64e-01  4.34e-01 -7.89e-01  7.22e-01]\n",
      " [ 2.13e-01 -1.10e+00 -7.89e-01 -8.68e-01]\n",
      " [-7.81e-01  4.34e-01 -7.89e-01 -4.42e-01]\n",
      " [ 8.40e-01  4.34e-01  1.27e+00 -5.58e-01]\n",
      " [-5.11e-01 -1.10e+00 -7.89e-01 -9.46e-01]\n",
      " [ 1.25e-01  4.34e-01  1.27e+00 -5.58e-01]\n",
      " [ 8.49e-01  4.34e-01  1.27e+00  1.77e+00]\n",
      " [ 5.72e-01  4.34e-01 -7.89e-01 -7.52e-01]\n",
      " [-9.46e-01  4.34e-01 -7.89e-01  8.39e-01]\n",
      " [-7.25e-01 -1.10e+00  1.27e+00 -8.68e-01]\n",
      " [-6.52e-01  4.34e-01 -7.89e-01  9.16e-01]\n",
      " [-1.46e+00 -1.10e+00 -7.89e-01  2.39e-02]\n",
      " [-9.19e-01  4.34e-01 -7.89e-01 -5.19e-01]\n",
      " [-6.41e-02  4.34e-01 -7.89e-01  9.94e-01]\n",
      " [ 4.49e-01  4.34e-01  1.27e+00 -3.64e-01]\n",
      " [-4.94e-01  4.34e-01 -7.89e-01  9.55e-01]\n",
      " [-8.39e-01 -1.10e+00 -7.89e-01  2.39e+00]\n",
      " [ 2.87e+00  1.97e+00  1.27e+00 -6.36e-01]\n",
      " [ 3.07e-02  4.34e-01 -7.89e-01  8.00e-01]\n",
      " [ 1.63e+00  4.34e-01  1.27e+00 -4.80e-01]\n",
      " [ 9.03e-01  1.97e+00  1.27e+00  4.12e-01]\n",
      " [ 1.59e-01  4.34e-01  1.27e+00 -8.68e-01]\n",
      " [-9.19e-01  4.34e-01 -7.89e-01 -5.19e-01]\n",
      " [ 3.07e-02  4.34e-01 -7.89e-01 -6.36e-01]\n",
      " [-6.30e-01  4.34e-01 -7.89e-01  5.67e-01]\n",
      " [ 3.12e-01  4.34e-01  1.27e+00 -1.02e+00]\n",
      " [ 1.37e+00  4.34e-01  1.27e+00 -6.36e-01]\n",
      " [-8.80e-01  4.34e-01 -7.89e-01  5.67e-01]\n",
      " [-5.79e-01 -1.10e+00 -7.89e-01  2.35e+00]\n",
      " [-1.47e-01 -1.10e+00 -7.89e-01 -8.30e-01]\n",
      " [-1.11e+00  4.34e-01 -7.89e-01  4.89e-01]\n",
      " [ 9.14e-02  4.34e-01  1.27e+00 -8.68e-01]\n",
      " [ 6.71e-02  4.34e-01  1.27e+00 -5.19e-01]\n",
      " [-5.11e-01 -1.10e+00 -7.89e-01 -9.07e-01]\n",
      " [ 3.27e-01  4.34e-01  1.27e+00 -8.68e-01]\n",
      " [-1.30e+00  4.34e-01 -7.89e-01  4.12e-01]\n",
      " [ 1.49e+00  1.97e+00  1.27e+00  2.57e-01]\n",
      " [-9.19e-01  4.34e-01 -7.89e-01  9.16e-01]\n",
      " [ 4.80e-01  4.34e-01 -7.89e-01 -8.68e-01]\n",
      " [-1.50e+00 -1.10e+00 -7.89e-01  1.61e+00]\n",
      " [ 2.82e-02  4.34e-01  1.27e+00 -6.74e-01]\n",
      " [ 5.77e-01  4.34e-01 -7.89e-01  8.77e-01]\n",
      " [ 2.98e-01  4.34e-01 -7.89e-01 -8.68e-01]\n",
      " [-1.14e+00  4.34e-01 -7.89e-01  5.67e-01]\n",
      " [-4.72e-01 -1.10e+00  1.27e+00 -1.02e+00]\n",
      " [ 3.31e-02 -1.10e+00 -7.89e-01  1.79e-01]\n",
      " [ 5.87e-01  4.34e-01  1.27e+00 -7.52e-01]\n",
      " [-5.01e-01  4.34e-01 -7.89e-01 -7.13e-01]\n",
      " [-8.95e-01 -1.10e+00 -7.89e-01  1.03e+00]]\n"
     ]
    }
   ],
   "source": [
    "# Import StandardScaler from sklearn to perform feature scaling\n",
    "\n",
    "# This line initializes an instance of StandardScaler, a class from sklearn that standardizes features by removing\n",
    "# the mean and scaling them to unit variance.\n",
    "\n",
    "# Standardization is important when using gradient descent or other optimization algorithms because it ensures that\n",
    "# all features contribute equally to the model training process.\n",
    "scaler = StandardScaler()\n",
    "\n",
    "# Normalize the feature data using StandardScaler\n",
    "\n",
    "# Fit: Calculates the mean and standard deviation for each feature in the dataset.\n",
    "\n",
    "# Transform: Applies the standardization by subtracting the mean and dividing by the standard deviation for each feature.\n",
    "X_norm = scaler.fit_transform(X_train)\n",
    "\n",
    "# Print the normalized data\n",
    "print('Normalized X_train:', X_norm)\n"
   ]
  },
  {
   "cell_type": "code",
   "execution_count": 4,
   "metadata": {},
   "outputs": [
    {
     "name": "stdout",
     "output_type": "stream",
     "text": [
      "Peak to Peak range by column in Raw        X: [2.41e+03 4.00e+00 1.00e+00 9.50e+01]\n",
      "Peak to Peak range by column in Normalized X: [5.85 6.14 2.06 3.69]\n"
     ]
    }
   ],
   "source": [
    "# Print the peak-to-peak (range) of each column in the raw (original) and normalized data\n",
    "\n",
    "# np.ptp computes the peak-to-peak (range) value of the data along the specified axis. It’s essentially the \n",
    "# difference between the maximum and minimum values in each column (feature) of X_train.\n",
    "\n",
    "# axis=0 indicates that the operation should be performed column-wise.\n",
    "\n",
    "print(f\"Peak to Peak range by column in Raw        X: {np.ptp(X_train, axis=0)}\")\n",
    "print(f\"Peak to Peak range by column in Normalized X: {np.ptp(X_norm, axis=0)}\")"
   ]
  },
  {
   "cell_type": "markdown",
   "metadata": {},
   "source": [
    "### Gradient Descent with scikit learn\n",
    "#### Create and fit the regression model\n",
    "\n",
    "Stochastic Gradient Descent (SGD).. we will use this to get optimal w and b for our dataset"
   ]
  },
  {
   "cell_type": "code",
   "execution_count": 8,
   "metadata": {},
   "outputs": [
    {
     "name": "stdout",
     "output_type": "stream",
     "text": [
      "SGDRegressor()\n",
      "Number of iterations completed: 128, Number of weight updates: 12673.0\n",
      "model parameters:                   w: [110.24 -21.09 -32.5  -38.04], b:[363.17]\n",
      "model parameters from previous lab: w: [110.56 -21.27 -32.71 -37.97], b: 363.16\n"
     ]
    }
   ],
   "source": [
    "# Create and fit the regression model\n",
    "# SGDRegressor is a linear model from Scikit-learn that uses Stochastic Gradient Descent (SGD)\n",
    "# to optimize the weights. It is suitable for large datasets and can be used for regression tasks.\n",
    "\n",
    "# This line initializes the SGDRegressor model with a maximum of 1000 iterations. This means the algorithm will go\n",
    "# through the data up to 1000 times to adjust the weights to minimize the error.\n",
    "sgdr = SGDRegressor(max_iter=1000)  # Create the SGDRegressor model with a maximum of 1000 iterations\n",
    "\n",
    "# sgdr.fit(X_norm, y_train): This line fits the model to your normalized data X_norm and the target values y_train.\n",
    "# The model learns the relationship between the input features and the target variable by adjusting the weights.\n",
    "sgdr.fit(X_norm, y_train)  # Fit the model to the normalized training data\n",
    "\n",
    "# Calculate the normalized weights and bias\n",
    "b_norm = sgdr.intercept_\n",
    "w_norm = sgdr.coef_\n",
    "\n",
    "# Output the model details\n",
    "print(sgdr)\n",
    "print(f\"Number of iterations completed: {sgdr.n_iter_}, Number of weight updates: {sgdr.t_}\")\n",
    "\n",
    "print(f\"model parameters:                   w: {w_norm}, b:{b_norm}\")\n",
    "print( \"model parameters from previous lab: w: [110.56 -21.27 -32.71 -37.97], b: 363.16\")\n"
   ]
  },
  {
   "cell_type": "markdown",
   "metadata": {},
   "source": [
    "### Make predictions"
   ]
  },
  {
   "cell_type": "code",
   "execution_count": 13,
   "metadata": {},
   "outputs": [
    {
     "name": "stdout",
     "output_type": "stream",
     "text": [
      "Predicted values using SGDRegressor:, [295.17 485.97 389.62 492.14]\n",
      "Predicted values using w_norm and b_norm:, [295.17 485.97 389.62 492.14]\n",
      "Target values:, [300.  509.8 394.  540. ]\n"
     ]
    }
   ],
   "source": [
    "# Make predictions using sgdr.predict(X_norm)\n",
    "y_pred_sgd = sgdr.predict(X_norm)\n",
    "\n",
    "# Make predictions using w_norm and b_norm\n",
    "y_pred = np.dot(X_norm, w_norm) + b_norm\n",
    "\n",
    "# Print the predicted values\n",
    "print(f\"Predicted values using SGDRegressor:, {y_pred_sgd[:4]}\")\n",
    "print(f\"Predicted values using w_norm and b_norm:, {y_pred[:4]}\")\n",
    "print(f\"Target values:, {y_train[:4]}\")"
   ]
  },
  {
   "cell_type": "markdown",
   "metadata": {},
   "source": [
    "### Plot Results\n",
    "Let's plot the predictions versus the target values."
   ]
  },
  {
   "cell_type": "code",
   "execution_count": 15,
   "metadata": {},
   "outputs": [
    {
     "data": {
      "image/png": "[encoded data removed]",
      "text/plain": [
       "<Figure size 1200x300 with 4 Axes>"
      ]
     },
     "metadata": {},
     "output_type": "display_data"
    }
   ],
   "source": [
    "# Create subplots to visualize predictions vs. actual targets for each feature\n",
    "fig, ax = plt.subplots(1, 4, figsize=(12, 3), sharey=True)\n",
    "\n",
    "# Iterate over each feature to create subplots\n",
    "for i in range(len(ax)):\n",
    "    # Scatter plot of actual target values vs. feature values\n",
    "    ax[i].scatter(X_train[:, i], y_train, label='Target', color='blue', marker='x')\n",
    "    # Scatter plot of predicted values vs. feature values\n",
    "    ax[i].scatter(X_train[:, i], y_pred, color=dlc[\"dlorange\"], label='Predicted', marker='o')\n",
    "    # Label the x-axis with feature names\n",
    "    ax[i].set_xlabel(X_features[i])\n",
    "\n",
    "# Set common y-axis label and legend for the first subplot\n",
    "ax[0].set_ylabel(\"Price\")\n",
    "ax[0].legend()\n",
    "\n",
    "# Set the title for the entire figure\n",
    "fig.suptitle(\"Target vs. Prediction Using Z-score Normalized Model\")\n",
    "\n",
    "# Display the plot\n",
    "plt.show()"
   ]
  }
 ],
 "metadata": {
  "kernelspec": {
   "display_name": "ML_learning_journey_kernel",
   "language": "python",
   "name": "ml_learning_journey_kernel"
  },
  "language_info": {
   "codemirror_mode": {
    "name": "ipython",
    "version": 3
   },
   "file_extension": ".py",
   "mimetype": "text/x-python",
   "name": "python",
   "nbconvert_exporter": "python",
   "pygments_lexer": "ipython3",
   "version": "3.11.4"
  }
 },
 "nbformat": 4,
 "nbformat_minor": 2
}
