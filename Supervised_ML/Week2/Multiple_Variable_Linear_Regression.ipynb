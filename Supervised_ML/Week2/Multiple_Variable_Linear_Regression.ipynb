{
 "cells": [
  {
   "cell_type": "markdown",
   "metadata": {},
   "source": [
    "## Multiple Variable Linear Regression\n",
    "\n",
    "### Goals\n",
    "\n",
    "Extend our regression model routines to support multiple features\n",
    "\n",
    "Extend data structures to support multiple features\n",
    "\n",
    "Rewrite prediction, cost and gradient routines to support multiple features\n",
    "\n",
    "Utilize NumPy np.dot to vectorize their implementations for speed and simplicity"
   ]
  },
  {
   "cell_type": "code",
   "execution_count": 2,
   "metadata": {},
   "outputs": [],
   "source": [
    "import copy, math\n",
    "import numpy as np\n",
    "import matplotlib.pyplot as plt\n",
    "# plt.style.use('./deeplearning.mplstyle')\n",
    "np.set_printoptions(precision=2)  # reduced display precision on numpy arrays"
   ]
  },
  {
   "cell_type": "code",
   "execution_count": 4,
   "metadata": {},
   "outputs": [],
   "source": [
    "import pandas as pd"
   ]
  },
  {
   "cell_type": "code",
   "execution_count": 25,
   "metadata": {},
   "outputs": [],
   "source": [
    "import time"
   ]
  },
  {
   "cell_type": "markdown",
   "metadata": {},
   "source": [
    "### Problem Statement\n",
    "We will use the motivating example of housing price prediction. The training dataset contains three examples with four features (size, bedrooms, floors and, age).\n",
    "\n",
    "lets build a linear regression model using these values so we can then predict the price for other houses. For example, a house with 1200 sqft, 3 bedrooms, 1 floor, 40 years old."
   ]
  },
  {
   "cell_type": "code",
   "execution_count": 3,
   "metadata": {},
   "outputs": [],
   "source": [
    "X_train = np.array([[2104, 5, 1, 45], [1416, 3, 2, 40], [852, 2, 1, 35]])\n",
    "y_train = np.array([460, 232, 178])"
   ]
  },
  {
   "cell_type": "code",
   "execution_count": 5,
   "metadata": {},
   "outputs": [
    {
     "name": "stdout",
     "output_type": "stream",
     "text": [
      "Training Dataset:\n",
      "   Size (sqft)  Bedrooms  Floors  Age (years)  Price (in $1000s)\n",
      "0         2104         5       1           45                460\n",
      "1         1416         3       2           40                232\n",
      "2          852         2       1           35                178\n"
     ]
    }
   ],
   "source": [
    "# Creating a DataFrame to display the data\n",
    "columns = ['Size (sqft)', 'Bedrooms', 'Floors', 'Age (years)']\n",
    "df = pd.DataFrame(X_train, columns=columns)\n",
    "df['Price (in $1000s)'] = y_train\n",
    "\n",
    "print(\"Training Dataset:\")\n",
    "print(df)"
   ]
  },
  {
   "cell_type": "code",
   "execution_count": 6,
   "metadata": {},
   "outputs": [
    {
     "name": "stdout",
     "output_type": "stream",
     "text": [
      "X Shape: (3, 4), X Type:<class 'numpy.ndarray'>)\n",
      "[[2104    5    1   45]\n",
      " [1416    3    2   40]\n",
      " [ 852    2    1   35]]\n",
      "y Shape: (3,), y Type:<class 'numpy.ndarray'>)\n",
      "[460 232 178]\n"
     ]
    }
   ],
   "source": [
    "# data is stored in numpy array/matrix\n",
    "print(f\"X Shape: {X_train.shape}, X Type:{type(X_train)})\")\n",
    "print(X_train)\n",
    "print(f\"y Shape: {y_train.shape}, y Type:{type(y_train)})\")\n",
    "print(y_train)"
   ]
  },
  {
   "cell_type": "markdown",
   "metadata": {},
   "source": [
    "[[2104    5    1   45]\n",
    " [1416    3    2   40]\n",
    " [ 852    2    1   35]]\n",
    "\n",
    " every 1D array from above 2D array is a sample record with multiple features, for example [2104    5    1   45]\n",
    "\n",
    " where, x1 Size 2104, x2 No.of Bedrooms 5, x3 No.of floors 1, x4 Age.of Home 45\n",
    "\n",
    " Now we have to set Weights w1, w2, w3, w4 for every feature x1, x2, x3, x4 according to their importance and impact"
   ]
  },
  {
   "cell_type": "markdown",
   "metadata": {},
   "source": [
    "### Parameter vector w, b\n",
    "\n",
    "w is a vector with elements.\n",
    "\n",
    "Each element contains the parameter associated with one feature.\n",
    "\n",
    "in our dataset, n is 4, so you can say\n",
    "\n",
    "Size 0.39133535, No.Beds 18.75376741, No.Floors -53.36032453, Age -26.42131618\n",
    "No.Beds has biggest value that determine its the most important feature, No.of Floor is least imp\n",
    "\n",
    "b is a scalar parameter."
   ]
  },
  {
   "cell_type": "code",
   "execution_count": 7,
   "metadata": {},
   "outputs": [
    {
     "name": "stdout",
     "output_type": "stream",
     "text": [
      "w_init shape: (4,), b_init type: <class 'float'>\n"
     ]
    }
   ],
   "source": [
    "b_init = 785.1811367994083\n",
    "w_init = np.array([ 0.39133535, 18.75376741, -53.36032453, -26.42131618])\n",
    "print(f\"w_init shape: {w_init.shape}, b_init type: {type(b_init)}\")"
   ]
  },
  {
   "cell_type": "markdown",
   "metadata": {},
   "source": [
    "### Model Prediction With Multiple Variables\n",
    "\n",
    "The model's prediction with multiple variables is given by the linear model:\n",
    "\n",
    "fw,b(x) = (w0.x0 + w1.x1 + w2.x2 + w3.x3) + b\n",
    "\n",
    "where is a vector dot product"
   ]
  },
  {
   "cell_type": "code",
   "execution_count": 18,
   "metadata": {},
   "outputs": [
    {
     "name": "stdout",
     "output_type": "stream",
     "text": [
      "No. of sample records for Housing data: 3\n",
      "No. of Features in our dataset: 4\n",
      "No. of Initial weights : 4\n",
      "Initial bias: 785.1811367994083\n",
      "Prices samples belong to each sample records: 3\n"
     ]
    }
   ],
   "source": [
    "# X_train.shape[0]\n",
    "print(f\"No. of sample records for Housing data: {X_train.shape[0]}\")\n",
    "print(f\"No. of Features in our dataset: {X_train.shape[1]}\")\n",
    "print(f\"No. of Initial weights : {w_init.shape[0]}\")\n",
    "print(f\"Initial bias: {b_init}\")\n",
    "print(f\"Prices samples belong to each sample records: {y_train.shape[0]}\")"
   ]
  },
  {
   "cell_type": "markdown",
   "metadata": {},
   "source": [
    "### Single Prediction element by element\n",
    "\n",
    "The function predict_single_loop is designed to make a prediction for a single example (one house) based on its features. It is not intended to handle multiple records (multiple houses) at once. "
   ]
  },
  {
   "cell_type": "code",
   "execution_count": 41,
   "metadata": {},
   "outputs": [],
   "source": [
    "def predict_single_loop(x, w, b): \n",
    "    \"\"\"\n",
    "    single predict using linear regression\n",
    "    \n",
    "    Args:\n",
    "      x (ndarray): Shape (n,) example with multiple features\n",
    "      w (ndarray): Shape (n,) model parameters    \n",
    "      b (scalar):  model parameter     \n",
    "      \n",
    "    Returns:\n",
    "      p (scalar):  prediction\n",
    "    \"\"\"\n",
    "    n = x.shape[0]    # Get the number of features (n) in the input example x\n",
    "    p = 0             # Initialize the prediction variable p to 0\n",
    "\n",
    "    tic = time.time()  # capture start time\n",
    "    \n",
    "    for i in range(n):\n",
    "        p_i = x[i] * w[i]  # Multiply each feature by its corresponding weight\n",
    "        p = p + p_i         # Accumulate the result into p\n",
    "    p = p + b               # Add the bias term to the accumulated sum\n",
    "    \n",
    "    toc = time.time()  # capture end time\n",
    "    time_taken = 1000*(toc-tic)  # calculate time taken in milliseconds\n",
    "\n",
    "    return p, time_taken         # Return the prediction p and the time taken"
   ]
  },
  {
   "cell_type": "code",
   "execution_count": 42,
   "metadata": {},
   "outputs": [
    {
     "name": "stdout",
     "output_type": "stream",
     "text": [
      "x_vec shape (4,), x_vec value: [2104    5    1   45]\n"
     ]
    }
   ],
   "source": [
    "# get a row from our training data\n",
    "x_vec = X_train[0,:]\n",
    "print(f\"x_vec shape {x_vec.shape}, x_vec value: {x_vec}\")"
   ]
  },
  {
   "cell_type": "code",
   "execution_count": 43,
   "metadata": {},
   "outputs": [
    {
     "name": "stdout",
     "output_type": "stream",
     "text": [
      "f_wb shape (), prediction: 459.9999976194083\n",
      "Total Time Duration: 0.9996891021728516 ms\n"
     ]
    }
   ],
   "source": [
    "# make a prediction\n",
    "f_wb, duration = predict_single_loop(x_vec, w_init, b_init)\n",
    "print(f\"f_wb shape {f_wb.shape}, prediction: {f_wb}\")\n",
    "print(f\"Total Time Duration: {duration} ms\")"
   ]
  },
  {
   "cell_type": "markdown",
   "metadata": {},
   "source": [
    "### Single Prediction with np.dot instead of looping\n",
    "\n",
    "lets modify predict_single_loop function to speed up performence, by using np.dot inplace of looping"
   ]
  },
  {
   "cell_type": "code",
   "execution_count": 59,
   "metadata": {},
   "outputs": [],
   "source": [
    "def predict(x, w, b): \n",
    "    \"\"\"\n",
    "    single predict using linear regression\n",
    "    Args:\n",
    "      x (ndarray): Shape (n,) example with multiple features\n",
    "      w (ndarray): Shape (n,) model parameters   \n",
    "      b (scalar):             model parameter \n",
    "      \n",
    "    Returns:\n",
    "      p (scalar):  prediction\n",
    "    \"\"\"\n",
    "    tic = time.time()  # capture start time\n",
    "    p = np.dot(x, w) + b # Compute the dot product of x and w, and add b to the result  \n",
    "    toc = time.time()  # capture end time\n",
    "    time_taken = 1000*(toc-tic)  # calculate time taken in milliseconds \n",
    "    return p, time_taken # Return the prediction p and the time taken"
   ]
  },
  {
   "cell_type": "code",
   "execution_count": 61,
   "metadata": {},
   "outputs": [
    {
     "name": "stdout",
     "output_type": "stream",
     "text": [
      "x_vec shape (4,), x_vec value: [2104    5    1   45]\n"
     ]
    }
   ],
   "source": [
    "# get a row from our training data\n",
    "x_vec = X_train[0,:]\n",
    "print(f\"x_vec shape {x_vec.shape}, x_vec value: {x_vec}\")"
   ]
  },
  {
   "cell_type": "code",
   "execution_count": 62,
   "metadata": {},
   "outputs": [
    {
     "name": "stdout",
     "output_type": "stream",
     "text": [
      "f_wb shape (), prediction: 459.9999976194083\n",
      "Total Time Duration: 0.0 ms\n"
     ]
    }
   ],
   "source": [
    "# make a prediction\n",
    "f_wb, duration = predict(x_vec,w_init, b_init)\n",
    "print(f\"f_wb shape {f_wb.shape}, prediction: {f_wb}\")\n",
    "print(f\"Total Time Duration: {duration} ms\")"
   ]
  },
  {
   "cell_type": "code",
   "execution_count": 63,
   "metadata": {},
   "outputs": [],
   "source": [
    "def predict_multiple_records(X, w, b):\n",
    "    \"\"\"\n",
    "    Predicts for multiple records using linear regression\n",
    "    \n",
    "    Args:\n",
    "      X (ndarray): Shape (m, n), m examples with n features each\n",
    "      w (ndarray): Shape (n,) model parameters    \n",
    "      b (scalar):  model parameter\n",
    "      \n",
    "    Returns:\n",
    "      p (ndarray): Shape (m,), predictions for each example\n",
    "    \"\"\"\n",
    "    m = X.shape[0]   # Number of records\n",
    "    p = np.zeros(m)  # Initialize the prediction array\n",
    "    \n",
    "    for i in range(m):\n",
    "        p[i], timeTaken = predict_single_loop(X[i], w, b)  # Predict for each record\n",
    "    \n",
    "    return p\n"
   ]
  },
  {
   "cell_type": "code",
   "execution_count": 65,
   "metadata": {},
   "outputs": [
    {
     "name": "stdout",
     "output_type": "stream",
     "text": [
      "[460. 232. 178.]\n"
     ]
    }
   ],
   "source": [
    "predictions = predict_multiple_records(X_train, w_init, b_init)\n",
    "print(predictions)"
   ]
  }
 ],
 "metadata": {
  "kernelspec": {
   "display_name": "ML_learning_journey_kernel",
   "language": "python",
   "name": "ml_learning_journey_kernel"
  },
  "language_info": {
   "codemirror_mode": {
    "name": "ipython",
    "version": 3
   },
   "file_extension": ".py",
   "mimetype": "text/x-python",
   "name": "python",
   "nbconvert_exporter": "python",
   "pygments_lexer": "ipython3",
   "version": "3.11.4"
  }
 },
 "nbformat": 4,
 "nbformat_minor": 2
}
